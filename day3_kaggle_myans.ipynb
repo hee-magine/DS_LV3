{
 "cells": [
  {
   "cell_type": "markdown",
   "id": "0aa73290",
   "metadata": {},
   "source": [
    "## 문제 6\n",
    "\n",
    "**Kaggle 형** train_prob.csv로 문제 target을 예측하는 모델을 만들고, \n",
    "\n",
    "test_prob.csv에 대한 target 예측하여 다음과 같은 형식의 answer6.csv를 만들어라.\n",
    "\n",
    "id, target\n",
    "\n",
    "0, 6.9\n",
    "\n",
    "5, 7.8\n",
    "\n",
    "...\n",
    "\n",
    "\n",
    "**평가지표**\n",
    "\n",
    "$RMSE(Y, \\hat{Y}) = \\sqrt{\\frac{1}{n}\\sum^{n}_{i=1}(y_i-\\hat{y_i})^2}$\n"
   ]
  },
  {
   "cell_type": "code",
   "execution_count": 1,
   "id": "8453bdf7",
   "metadata": {},
   "outputs": [
    {
     "name": "stdout",
     "output_type": "stream",
     "text": [
      "3.7.4 (default, Aug 13 2019, 20:35:49) \n",
      "[GCC 7.3.0]\n",
      "pandas 1.3.5\n",
      "numpy 1.21.5\n",
      "sklearn 0.21.3\n",
      "scipy 1.5.2\n",
      "mlxtend 0.15.0.0\n",
      "statsmodels 0.13.5\n"
     ]
    }
   ],
   "source": [
    "import warnings\n",
    "with warnings.catch_warnings(): \n",
    "    warnings.simplefilter(\"ignore\")\n",
    "    import pandas as pd\n",
    "    import numpy as np\n",
    "    import sklearn\n",
    "    import scipy\n",
    "    import statsmodels\n",
    "    import mlxtend\n",
    "    import sys\n",
    "\n",
    "print(sys.version)\n",
    "for i in [pd, np, sklearn, scipy, mlxtend, statsmodels]:\n",
    "    print(i.__name__, i.__version__)"
   ]
  },
  {
   "cell_type": "code",
   "execution_count": 2,
   "id": "62fc7983",
   "metadata": {},
   "outputs": [
    {
     "name": "stdout",
     "output_type": "stream",
     "text": [
      "<class 'pandas.core.frame.DataFrame'>\n",
      "Int64Index: 240000 entries, 267387 to 415856\n",
      "Data columns (total 25 columns):\n",
      " #   Column  Non-Null Count   Dtype  \n",
      "---  ------  --------------   -----  \n",
      " 0   cat0    240000 non-null  object \n",
      " 1   cat1    240000 non-null  object \n",
      " 2   cat2    240000 non-null  object \n",
      " 3   cat3    240000 non-null  object \n",
      " 4   cat4    240000 non-null  object \n",
      " 5   cat5    240000 non-null  object \n",
      " 6   cat6    240000 non-null  object \n",
      " 7   cat7    240000 non-null  object \n",
      " 8   cat8    240000 non-null  object \n",
      " 9   cat9    240000 non-null  object \n",
      " 10  cont0   240000 non-null  float64\n",
      " 11  cont1   240000 non-null  float64\n",
      " 12  cont2   240000 non-null  float64\n",
      " 13  cont3   240000 non-null  float64\n",
      " 14  cont4   240000 non-null  float64\n",
      " 15  cont5   240000 non-null  float64\n",
      " 16  cont6   240000 non-null  float64\n",
      " 17  cont7   240000 non-null  float64\n",
      " 18  cont8   240000 non-null  float64\n",
      " 19  cont9   240000 non-null  float64\n",
      " 20  cont10  240000 non-null  float64\n",
      " 21  cont11  240000 non-null  float64\n",
      " 22  cont12  240000 non-null  float64\n",
      " 23  cont13  240000 non-null  float64\n",
      " 24  target  240000 non-null  float64\n",
      "dtypes: float64(15), object(10)\n",
      "memory usage: 47.6+ MB\n"
     ]
    }
   ],
   "source": [
    "df_train = pd.read_csv(\"train_prob.csv\", index_col=\"id\")\n",
    "df_train.info()"
   ]
  },
  {
   "cell_type": "code",
   "execution_count": 3,
   "id": "0b0f4eef",
   "metadata": {},
   "outputs": [
    {
     "data": {
      "text/html": [
       "<div>\n",
       "<style scoped>\n",
       "    .dataframe tbody tr th:only-of-type {\n",
       "        vertical-align: middle;\n",
       "    }\n",
       "\n",
       "    .dataframe tbody tr th {\n",
       "        vertical-align: top;\n",
       "    }\n",
       "\n",
       "    .dataframe thead th {\n",
       "        text-align: right;\n",
       "    }\n",
       "</style>\n",
       "<table border=\"1\" class=\"dataframe\">\n",
       "  <thead>\n",
       "    <tr style=\"text-align: right;\">\n",
       "      <th></th>\n",
       "      <th>cat0</th>\n",
       "      <th>cat1</th>\n",
       "      <th>cat2</th>\n",
       "      <th>cat3</th>\n",
       "      <th>cat4</th>\n",
       "      <th>cat5</th>\n",
       "      <th>cat6</th>\n",
       "      <th>cat7</th>\n",
       "      <th>cat8</th>\n",
       "      <th>cat9</th>\n",
       "      <th>...</th>\n",
       "      <th>cont6</th>\n",
       "      <th>cont7</th>\n",
       "      <th>cont8</th>\n",
       "      <th>cont9</th>\n",
       "      <th>cont10</th>\n",
       "      <th>cont11</th>\n",
       "      <th>cont12</th>\n",
       "      <th>cont13</th>\n",
       "      <th>target</th>\n",
       "      <th>target A</th>\n",
       "    </tr>\n",
       "    <tr>\n",
       "      <th>id</th>\n",
       "      <th></th>\n",
       "      <th></th>\n",
       "      <th></th>\n",
       "      <th></th>\n",
       "      <th></th>\n",
       "      <th></th>\n",
       "      <th></th>\n",
       "      <th></th>\n",
       "      <th></th>\n",
       "      <th></th>\n",
       "      <th></th>\n",
       "      <th></th>\n",
       "      <th></th>\n",
       "      <th></th>\n",
       "      <th></th>\n",
       "      <th></th>\n",
       "      <th></th>\n",
       "      <th></th>\n",
       "      <th></th>\n",
       "      <th></th>\n",
       "      <th></th>\n",
       "    </tr>\n",
       "  </thead>\n",
       "  <tbody>\n",
       "    <tr>\n",
       "      <th>267387</th>\n",
       "      <td>A</td>\n",
       "      <td>B</td>\n",
       "      <td>B</td>\n",
       "      <td>C</td>\n",
       "      <td>B</td>\n",
       "      <td>B</td>\n",
       "      <td>A</td>\n",
       "      <td>E</td>\n",
       "      <td>G</td>\n",
       "      <td>G</td>\n",
       "      <td>...</td>\n",
       "      <td>0.69220</td>\n",
       "      <td>0.30912</td>\n",
       "      <td>0.47134</td>\n",
       "      <td>0.53290</td>\n",
       "      <td>0.97139</td>\n",
       "      <td>0.59414</td>\n",
       "      <td>0.36856</td>\n",
       "      <td>0.42951</td>\n",
       "      <td>8.13741</td>\n",
       "      <td>False</td>\n",
       "    </tr>\n",
       "    <tr>\n",
       "      <th>410037</th>\n",
       "      <td>A</td>\n",
       "      <td>A</td>\n",
       "      <td>A</td>\n",
       "      <td>A</td>\n",
       "      <td>B</td>\n",
       "      <td>B</td>\n",
       "      <td>A</td>\n",
       "      <td>E</td>\n",
       "      <td>C</td>\n",
       "      <td>F</td>\n",
       "      <td>...</td>\n",
       "      <td>0.97199</td>\n",
       "      <td>0.62596</td>\n",
       "      <td>0.40193</td>\n",
       "      <td>0.49181</td>\n",
       "      <td>0.56479</td>\n",
       "      <td>0.39386</td>\n",
       "      <td>0.36247</td>\n",
       "      <td>0.71541</td>\n",
       "      <td>7.40427</td>\n",
       "      <td>True</td>\n",
       "    </tr>\n",
       "    <tr>\n",
       "      <th>139373</th>\n",
       "      <td>A</td>\n",
       "      <td>A</td>\n",
       "      <td>B</td>\n",
       "      <td>A</td>\n",
       "      <td>B</td>\n",
       "      <td>B</td>\n",
       "      <td>A</td>\n",
       "      <td>E</td>\n",
       "      <td>C</td>\n",
       "      <td>J</td>\n",
       "      <td>...</td>\n",
       "      <td>0.41310</td>\n",
       "      <td>0.27010</td>\n",
       "      <td>0.40112</td>\n",
       "      <td>0.53052</td>\n",
       "      <td>0.35635</td>\n",
       "      <td>0.33341</td>\n",
       "      <td>0.33354</td>\n",
       "      <td>0.82542</td>\n",
       "      <td>7.98022</td>\n",
       "      <td>False</td>\n",
       "    </tr>\n",
       "    <tr>\n",
       "      <th>113765</th>\n",
       "      <td>A</td>\n",
       "      <td>A</td>\n",
       "      <td>A</td>\n",
       "      <td>C</td>\n",
       "      <td>B</td>\n",
       "      <td>B</td>\n",
       "      <td>A</td>\n",
       "      <td>E</td>\n",
       "      <td>C</td>\n",
       "      <td>G</td>\n",
       "      <td>...</td>\n",
       "      <td>0.42301</td>\n",
       "      <td>0.28331</td>\n",
       "      <td>0.46425</td>\n",
       "      <td>0.38302</td>\n",
       "      <td>0.38054</td>\n",
       "      <td>0.68827</td>\n",
       "      <td>0.34895</td>\n",
       "      <td>0.73375</td>\n",
       "      <td>7.26085</td>\n",
       "      <td>True</td>\n",
       "    </tr>\n",
       "    <tr>\n",
       "      <th>179915</th>\n",
       "      <td>A</td>\n",
       "      <td>B</td>\n",
       "      <td>A</td>\n",
       "      <td>C</td>\n",
       "      <td>B</td>\n",
       "      <td>B</td>\n",
       "      <td>A</td>\n",
       "      <td>E</td>\n",
       "      <td>E</td>\n",
       "      <td>L</td>\n",
       "      <td>...</td>\n",
       "      <td>0.37466</td>\n",
       "      <td>0.46316</td>\n",
       "      <td>0.75578</td>\n",
       "      <td>0.55676</td>\n",
       "      <td>0.31308</td>\n",
       "      <td>0.43157</td>\n",
       "      <td>0.32302</td>\n",
       "      <td>0.18028</td>\n",
       "      <td>7.26448</td>\n",
       "      <td>True</td>\n",
       "    </tr>\n",
       "  </tbody>\n",
       "</table>\n",
       "<p>5 rows × 26 columns</p>\n",
       "</div>"
      ],
      "text/plain": [
       "       cat0 cat1 cat2 cat3 cat4 cat5 cat6 cat7 cat8 cat9  ...    cont6  \\\n",
       "id                                                        ...            \n",
       "267387    A    B    B    C    B    B    A    E    G    G  ...  0.69220   \n",
       "410037    A    A    A    A    B    B    A    E    C    F  ...  0.97199   \n",
       "139373    A    A    B    A    B    B    A    E    C    J  ...  0.41310   \n",
       "113765    A    A    A    C    B    B    A    E    C    G  ...  0.42301   \n",
       "179915    A    B    A    C    B    B    A    E    E    L  ...  0.37466   \n",
       "\n",
       "          cont7    cont8    cont9   cont10   cont11   cont12   cont13  \\\n",
       "id                                                                      \n",
       "267387  0.30912  0.47134  0.53290  0.97139  0.59414  0.36856  0.42951   \n",
       "410037  0.62596  0.40193  0.49181  0.56479  0.39386  0.36247  0.71541   \n",
       "139373  0.27010  0.40112  0.53052  0.35635  0.33341  0.33354  0.82542   \n",
       "113765  0.28331  0.46425  0.38302  0.38054  0.68827  0.34895  0.73375   \n",
       "179915  0.46316  0.75578  0.55676  0.31308  0.43157  0.32302  0.18028   \n",
       "\n",
       "         target  target A  \n",
       "id                         \n",
       "267387  8.13741     False  \n",
       "410037  7.40427      True  \n",
       "139373  7.98022     False  \n",
       "113765  7.26085      True  \n",
       "179915  7.26448      True  \n",
       "\n",
       "[5 rows x 26 columns]"
      ]
     },
     "execution_count": 3,
     "metadata": {},
     "output_type": "execute_result"
    }
   ],
   "source": [
    "df_train[\"target A\"] = df_train[\"target\"] <= 7.45\n",
    "df_train.head()"
   ]
  },
  {
   "cell_type": "code",
   "execution_count": 4,
   "id": "8c77308d",
   "metadata": {},
   "outputs": [],
   "source": [
    "# 처리할 내용을 튜플과 리스트로 만듭니다.\n",
    "repl_list = [\n",
    "    ('cat3', {'B': 'C'}, [83634, 147361, 9005]),\n",
    "    ('cat4', {'A': 'B', 'D': 'B'}, [239397, 603]), \n",
    "    ('cat6', {'D': 'A', 'E': 'B', 'G': 'C', 'H': 'B', 'I': 'A'}, [234203, 5145, 652]),\n",
    "    ('cat7', {'A': 'B', 'C': 'B', 'F': 'D', 'I': 'B'}, [4606, 19784, 214027, 1583]),\n",
    "    ('cat8', {'B': 'G', 'F': 'E'}, [30338, 96743, 2953, 76085, 33881]),\n",
    "    ('cat9', {'C': 'H', 'D': 'B', 'E': 'L'}, [10678, 2846, 85944, 8320, 19987, 40070, 5501, 16743, 33793, 7819, 3331, 4968])\n",
    "]"
   ]
  },
  {
   "cell_type": "code",
   "execution_count": 5,
   "id": "831e6fd5",
   "metadata": {},
   "outputs": [
    {
     "name": "stdout",
     "output_type": "stream",
     "text": [
      "cat3 {'B': 'C'} [83634, 147361, 9005]\n",
      "cat4 {'A': 'B', 'D': 'B'} [239397, 603]\n",
      "cat6 {'D': 'A', 'E': 'B', 'G': 'C', 'H': 'B', 'I': 'A'} [234203, 5145, 652]\n",
      "cat7 {'A': 'B', 'C': 'B', 'F': 'D', 'I': 'B'} [4606, 19784, 214027, 1583]\n",
      "cat8 {'B': 'G', 'F': 'E'} [30338, 96743, 2953, 76085, 33881]\n",
      "cat9 {'C': 'H', 'D': 'B', 'E': 'L'} [10678, 2846, 85944, 8320, 19987, 40070, 5501, 16743, 33793, 7819, 3331, 4968]\n"
     ]
    }
   ],
   "source": [
    "# 반복문을 통해 처리합니다.\n",
    "for c, d, cnt in repl_list:\n",
    "    # 위에서 설계한 로직을 적용합니다.\n",
    "    # 처리한 값을 저장합니다.\n",
    "    df_train[c] = df_train[c].replace(d)\n",
    "    # 카운트가 다른 게 있는지 확인 합니다.\n",
    "    if (df_train[c].value_counts().sort_index() != cnt).sum() != 0:\n",
    "        print('error', c, d, cnt)\n",
    "    print(c, d, cnt)"
   ]
  },
  {
   "cell_type": "code",
   "execution_count": 6,
   "id": "c247d191",
   "metadata": {},
   "outputs": [
    {
     "data": {
      "text/html": [
       "<div>\n",
       "<style scoped>\n",
       "    .dataframe tbody tr th:only-of-type {\n",
       "        vertical-align: middle;\n",
       "    }\n",
       "\n",
       "    .dataframe tbody tr th {\n",
       "        vertical-align: top;\n",
       "    }\n",
       "\n",
       "    .dataframe thead th {\n",
       "        text-align: right;\n",
       "    }\n",
       "</style>\n",
       "<table border=\"1\" class=\"dataframe\">\n",
       "  <thead>\n",
       "    <tr style=\"text-align: right;\">\n",
       "      <th></th>\n",
       "      <th>cat0</th>\n",
       "      <th>cat1</th>\n",
       "      <th>cat2</th>\n",
       "      <th>cat3</th>\n",
       "      <th>cat4</th>\n",
       "      <th>cat5</th>\n",
       "      <th>cat6</th>\n",
       "      <th>cat7</th>\n",
       "      <th>cat8</th>\n",
       "      <th>cat9</th>\n",
       "      <th>...</th>\n",
       "      <th>cont6</th>\n",
       "      <th>cont7</th>\n",
       "      <th>cont8</th>\n",
       "      <th>cont9</th>\n",
       "      <th>cont10</th>\n",
       "      <th>cont11</th>\n",
       "      <th>cont12</th>\n",
       "      <th>cont13</th>\n",
       "      <th>target</th>\n",
       "      <th>target A</th>\n",
       "    </tr>\n",
       "    <tr>\n",
       "      <th>id</th>\n",
       "      <th></th>\n",
       "      <th></th>\n",
       "      <th></th>\n",
       "      <th></th>\n",
       "      <th></th>\n",
       "      <th></th>\n",
       "      <th></th>\n",
       "      <th></th>\n",
       "      <th></th>\n",
       "      <th></th>\n",
       "      <th></th>\n",
       "      <th></th>\n",
       "      <th></th>\n",
       "      <th></th>\n",
       "      <th></th>\n",
       "      <th></th>\n",
       "      <th></th>\n",
       "      <th></th>\n",
       "      <th></th>\n",
       "      <th></th>\n",
       "      <th></th>\n",
       "    </tr>\n",
       "  </thead>\n",
       "  <tbody>\n",
       "    <tr>\n",
       "      <th>267387</th>\n",
       "      <td>A</td>\n",
       "      <td>B</td>\n",
       "      <td>B</td>\n",
       "      <td>C</td>\n",
       "      <td>B</td>\n",
       "      <td>B</td>\n",
       "      <td>A</td>\n",
       "      <td>E</td>\n",
       "      <td>G</td>\n",
       "      <td>G</td>\n",
       "      <td>...</td>\n",
       "      <td>0.69220</td>\n",
       "      <td>0.30912</td>\n",
       "      <td>0.47134</td>\n",
       "      <td>0.53290</td>\n",
       "      <td>0.97139</td>\n",
       "      <td>0.59414</td>\n",
       "      <td>0.36856</td>\n",
       "      <td>0.42951</td>\n",
       "      <td>8.13741</td>\n",
       "      <td>False</td>\n",
       "    </tr>\n",
       "    <tr>\n",
       "      <th>410037</th>\n",
       "      <td>A</td>\n",
       "      <td>A</td>\n",
       "      <td>A</td>\n",
       "      <td>A</td>\n",
       "      <td>B</td>\n",
       "      <td>B</td>\n",
       "      <td>A</td>\n",
       "      <td>E</td>\n",
       "      <td>C</td>\n",
       "      <td>F</td>\n",
       "      <td>...</td>\n",
       "      <td>0.97199</td>\n",
       "      <td>0.62596</td>\n",
       "      <td>0.40193</td>\n",
       "      <td>0.49181</td>\n",
       "      <td>0.56479</td>\n",
       "      <td>0.39386</td>\n",
       "      <td>0.36247</td>\n",
       "      <td>0.71541</td>\n",
       "      <td>7.40427</td>\n",
       "      <td>True</td>\n",
       "    </tr>\n",
       "    <tr>\n",
       "      <th>139373</th>\n",
       "      <td>A</td>\n",
       "      <td>A</td>\n",
       "      <td>B</td>\n",
       "      <td>A</td>\n",
       "      <td>B</td>\n",
       "      <td>B</td>\n",
       "      <td>A</td>\n",
       "      <td>E</td>\n",
       "      <td>C</td>\n",
       "      <td>J</td>\n",
       "      <td>...</td>\n",
       "      <td>0.41310</td>\n",
       "      <td>0.27010</td>\n",
       "      <td>0.40112</td>\n",
       "      <td>0.53052</td>\n",
       "      <td>0.35635</td>\n",
       "      <td>0.33341</td>\n",
       "      <td>0.33354</td>\n",
       "      <td>0.82542</td>\n",
       "      <td>7.98022</td>\n",
       "      <td>False</td>\n",
       "    </tr>\n",
       "    <tr>\n",
       "      <th>113765</th>\n",
       "      <td>A</td>\n",
       "      <td>A</td>\n",
       "      <td>A</td>\n",
       "      <td>C</td>\n",
       "      <td>B</td>\n",
       "      <td>B</td>\n",
       "      <td>A</td>\n",
       "      <td>E</td>\n",
       "      <td>C</td>\n",
       "      <td>G</td>\n",
       "      <td>...</td>\n",
       "      <td>0.42301</td>\n",
       "      <td>0.28331</td>\n",
       "      <td>0.46425</td>\n",
       "      <td>0.38302</td>\n",
       "      <td>0.38054</td>\n",
       "      <td>0.68827</td>\n",
       "      <td>0.34895</td>\n",
       "      <td>0.73375</td>\n",
       "      <td>7.26085</td>\n",
       "      <td>True</td>\n",
       "    </tr>\n",
       "    <tr>\n",
       "      <th>179915</th>\n",
       "      <td>A</td>\n",
       "      <td>B</td>\n",
       "      <td>A</td>\n",
       "      <td>C</td>\n",
       "      <td>B</td>\n",
       "      <td>B</td>\n",
       "      <td>A</td>\n",
       "      <td>E</td>\n",
       "      <td>E</td>\n",
       "      <td>L</td>\n",
       "      <td>...</td>\n",
       "      <td>0.37466</td>\n",
       "      <td>0.46316</td>\n",
       "      <td>0.75578</td>\n",
       "      <td>0.55676</td>\n",
       "      <td>0.31308</td>\n",
       "      <td>0.43157</td>\n",
       "      <td>0.32302</td>\n",
       "      <td>0.18028</td>\n",
       "      <td>7.26448</td>\n",
       "      <td>True</td>\n",
       "    </tr>\n",
       "  </tbody>\n",
       "</table>\n",
       "<p>5 rows × 26 columns</p>\n",
       "</div>"
      ],
      "text/plain": [
       "       cat0 cat1 cat2 cat3 cat4 cat5 cat6 cat7 cat8 cat9  ...    cont6  \\\n",
       "id                                                        ...            \n",
       "267387    A    B    B    C    B    B    A    E    G    G  ...  0.69220   \n",
       "410037    A    A    A    A    B    B    A    E    C    F  ...  0.97199   \n",
       "139373    A    A    B    A    B    B    A    E    C    J  ...  0.41310   \n",
       "113765    A    A    A    C    B    B    A    E    C    G  ...  0.42301   \n",
       "179915    A    B    A    C    B    B    A    E    E    L  ...  0.37466   \n",
       "\n",
       "          cont7    cont8    cont9   cont10   cont11   cont12   cont13  \\\n",
       "id                                                                      \n",
       "267387  0.30912  0.47134  0.53290  0.97139  0.59414  0.36856  0.42951   \n",
       "410037  0.62596  0.40193  0.49181  0.56479  0.39386  0.36247  0.71541   \n",
       "139373  0.27010  0.40112  0.53052  0.35635  0.33341  0.33354  0.82542   \n",
       "113765  0.28331  0.46425  0.38302  0.38054  0.68827  0.34895  0.73375   \n",
       "179915  0.46316  0.75578  0.55676  0.31308  0.43157  0.32302  0.18028   \n",
       "\n",
       "         target  target A  \n",
       "id                         \n",
       "267387  8.13741     False  \n",
       "410037  7.40427      True  \n",
       "139373  7.98022     False  \n",
       "113765  7.26085      True  \n",
       "179915  7.26448      True  \n",
       "\n",
       "[5 rows x 26 columns]"
      ]
     },
     "execution_count": 6,
     "metadata": {},
     "output_type": "execute_result"
    }
   ],
   "source": [
    "df_train.head()"
   ]
  },
  {
   "cell_type": "code",
   "execution_count": 7,
   "id": "40a1915f",
   "metadata": {},
   "outputs": [
    {
     "data": {
      "text/plain": [
       "Index(['cat0', 'cat1', 'cat2', 'cat3', 'cat4', 'cat5', 'cat6', 'cat7', 'cat8',\n",
       "       'cat9', 'cont0', 'cont1', 'cont2', 'cont3', 'cont4', 'cont5', 'cont6',\n",
       "       'cont7', 'cont8', 'cont9', 'cont10', 'cont11', 'cont12', 'cont13',\n",
       "       'target', 'target A'],\n",
       "      dtype='object')"
      ]
     },
     "execution_count": 7,
     "metadata": {},
     "output_type": "execute_result"
    }
   ],
   "source": [
    "df_train.columns"
   ]
  },
  {
   "cell_type": "code",
   "execution_count": 8,
   "id": "5fc7498c",
   "metadata": {},
   "outputs": [],
   "source": [
    "import warnings\n",
    "with warnings.catch_warnings(): \n",
    "    warnings.simplefilter(\"ignore\")\n",
    "    from sklearn.compose import ColumnTransformer\n",
    "    from sklearn.pipeline import make_pipeline\n",
    "    from sklearn.model_selection import cross_val_score, KFold\n",
    "    from sklearn.preprocessing import StandardScaler, OneHotEncoder\n",
    "    from sklearn.decomposition import PCA\n",
    "cv = KFold(5, random_state=123, shuffle=True)"
   ]
  },
  {
   "cell_type": "code",
   "execution_count": 9,
   "id": "f7dbce8b",
   "metadata": {},
   "outputs": [
    {
     "data": {
      "text/html": [
       "<div>\n",
       "<style scoped>\n",
       "    .dataframe tbody tr th:only-of-type {\n",
       "        vertical-align: middle;\n",
       "    }\n",
       "\n",
       "    .dataframe tbody tr th {\n",
       "        vertical-align: top;\n",
       "    }\n",
       "\n",
       "    .dataframe thead th {\n",
       "        text-align: right;\n",
       "    }\n",
       "</style>\n",
       "<table border=\"1\" class=\"dataframe\">\n",
       "  <thead>\n",
       "    <tr style=\"text-align: right;\">\n",
       "      <th></th>\n",
       "      <th>cont0</th>\n",
       "      <th>cont5</th>\n",
       "      <th>cont8</th>\n",
       "      <th>cont9</th>\n",
       "      <th>cont12</th>\n",
       "    </tr>\n",
       "  </thead>\n",
       "  <tbody>\n",
       "    <tr>\n",
       "      <th>cont0</th>\n",
       "      <td>1.000000</td>\n",
       "      <td>0.573894</td>\n",
       "      <td>0.579618</td>\n",
       "      <td>0.524481</td>\n",
       "      <td>0.473249</td>\n",
       "    </tr>\n",
       "    <tr>\n",
       "      <th>cont5</th>\n",
       "      <td>0.573894</td>\n",
       "      <td>1.000000</td>\n",
       "      <td>0.606329</td>\n",
       "      <td>0.615449</td>\n",
       "      <td>0.631540</td>\n",
       "    </tr>\n",
       "    <tr>\n",
       "      <th>cont8</th>\n",
       "      <td>0.579618</td>\n",
       "      <td>0.606329</td>\n",
       "      <td>1.000000</td>\n",
       "      <td>0.558560</td>\n",
       "      <td>0.530215</td>\n",
       "    </tr>\n",
       "    <tr>\n",
       "      <th>cont9</th>\n",
       "      <td>0.524481</td>\n",
       "      <td>0.615449</td>\n",
       "      <td>0.558560</td>\n",
       "      <td>1.000000</td>\n",
       "      <td>0.538278</td>\n",
       "    </tr>\n",
       "    <tr>\n",
       "      <th>cont12</th>\n",
       "      <td>0.473249</td>\n",
       "      <td>0.631540</td>\n",
       "      <td>0.530215</td>\n",
       "      <td>0.538278</td>\n",
       "      <td>1.000000</td>\n",
       "    </tr>\n",
       "  </tbody>\n",
       "</table>\n",
       "</div>"
      ],
      "text/plain": [
       "           cont0     cont5     cont8     cont9    cont12\n",
       "cont0   1.000000  0.573894  0.579618  0.524481  0.473249\n",
       "cont5   0.573894  1.000000  0.606329  0.615449  0.631540\n",
       "cont8   0.579618  0.606329  1.000000  0.558560  0.530215\n",
       "cont9   0.524481  0.615449  0.558560  1.000000  0.538278\n",
       "cont12  0.473249  0.631540  0.530215  0.538278  1.000000"
      ]
     },
     "execution_count": 9,
     "metadata": {},
     "output_type": "execute_result"
    }
   ],
   "source": [
    "# 2번 문제에서 가져온 다중공선성있는 요소들\n",
    "X_vif = ['cont0', 'cont5', 'cont8', 'cont9', 'cont12']\n",
    "df_train[X_vif].corr()"
   ]
  },
  {
   "cell_type": "code",
   "execution_count": 10,
   "id": "19198c7b",
   "metadata": {
    "scrolled": true
   },
   "outputs": [
    {
     "data": {
      "text/plain": [
       "Index(['cat0', 'cat1', 'cat2', 'cat3', 'cat4', 'cat5', 'cat6', 'cat7', 'cat8',\n",
       "       'cat9', 'cont0', 'cont1', 'cont2', 'cont3', 'cont4', 'cont5', 'cont6',\n",
       "       'cont7', 'cont8', 'cont9', 'cont10', 'cont11', 'cont12', 'cont13'],\n",
       "      dtype='object')"
      ]
     },
     "execution_count": 10,
     "metadata": {},
     "output_type": "execute_result"
    }
   ],
   "source": [
    "X_input = df_train.columns[:-2]\n",
    "X_input"
   ]
  },
  {
   "cell_type": "code",
   "execution_count": 11,
   "id": "4f370de1",
   "metadata": {
    "scrolled": true
   },
   "outputs": [
    {
     "data": {
      "text/plain": [
       "['cont1',\n",
       " 'cont2',\n",
       " 'cont3',\n",
       " 'cont4',\n",
       " 'cont6',\n",
       " 'cont7',\n",
       " 'cont10',\n",
       " 'cont11',\n",
       " 'cont13']"
      ]
     },
     "execution_count": 11,
     "metadata": {},
     "output_type": "execute_result"
    }
   ],
   "source": [
    "[i for i in df_train.columns if (i.startswith('cont')) & (i not in X_vif)]"
   ]
  },
  {
   "cell_type": "code",
   "execution_count": 109,
   "id": "d90a9cd6",
   "metadata": {
    "scrolled": true
   },
   "outputs": [
    {
     "data": {
      "text/plain": [
       "(array([-0.74990495, -0.74968553, -0.75681724, -0.74735325, -0.74242976]),\n",
       " -0.7492381471930587)"
      ]
     },
     "execution_count": 109,
     "metadata": {},
     "output_type": "execute_result"
    }
   ],
   "source": [
    "from sklearn.linear_model import Ridge\n",
    "from sklearn.metrics import mean_squared_error as mse\n",
    "\n",
    "ct = ColumnTransformer([\n",
    "    ('pca', PCA(n_components=0.8, random_state=123), X_vif),\n",
    "    ('std', StandardScaler(), [i for i in df_train.columns if (i.startswith('cont')) & (i not in X_vif)] ),\n",
    "    ('ohe', OneHotEncoder(drop=\"first\"), [i for i in df_train.columns if i.startswith('cat')]),\n",
    "])\n",
    "reg_l2 = make_pipeline(ct, Ridge(0.1))\n",
    "scores_ = cross_val_score(reg_l2, X=df_train[X_input], y=df_train['target'], cv=cv, scoring=\"neg_mean_squared_error\")\n",
    "scores_, np.mean(scores_)"
   ]
  },
  {
   "cell_type": "markdown",
   "id": "f3ab39ff",
   "metadata": {},
   "source": [
    "## test 셋과 정답셋"
   ]
  },
  {
   "cell_type": "code",
   "execution_count": 66,
   "id": "70bc7251",
   "metadata": {},
   "outputs": [
    {
     "data": {
      "text/html": [
       "<div>\n",
       "<style scoped>\n",
       "    .dataframe tbody tr th:only-of-type {\n",
       "        vertical-align: middle;\n",
       "    }\n",
       "\n",
       "    .dataframe tbody tr th {\n",
       "        vertical-align: top;\n",
       "    }\n",
       "\n",
       "    .dataframe thead th {\n",
       "        text-align: right;\n",
       "    }\n",
       "</style>\n",
       "<table border=\"1\" class=\"dataframe\">\n",
       "  <thead>\n",
       "    <tr style=\"text-align: right;\">\n",
       "      <th></th>\n",
       "      <th>cat0</th>\n",
       "      <th>cat1</th>\n",
       "      <th>cat2</th>\n",
       "      <th>cat3</th>\n",
       "      <th>cat4</th>\n",
       "      <th>cat5</th>\n",
       "      <th>cat6</th>\n",
       "      <th>cat7</th>\n",
       "      <th>cat8</th>\n",
       "      <th>cat9</th>\n",
       "      <th>...</th>\n",
       "      <th>cont4</th>\n",
       "      <th>cont5</th>\n",
       "      <th>cont6</th>\n",
       "      <th>cont7</th>\n",
       "      <th>cont8</th>\n",
       "      <th>cont9</th>\n",
       "      <th>cont10</th>\n",
       "      <th>cont11</th>\n",
       "      <th>cont12</th>\n",
       "      <th>cont13</th>\n",
       "    </tr>\n",
       "    <tr>\n",
       "      <th>id</th>\n",
       "      <th></th>\n",
       "      <th></th>\n",
       "      <th></th>\n",
       "      <th></th>\n",
       "      <th></th>\n",
       "      <th></th>\n",
       "      <th></th>\n",
       "      <th></th>\n",
       "      <th></th>\n",
       "      <th></th>\n",
       "      <th></th>\n",
       "      <th></th>\n",
       "      <th></th>\n",
       "      <th></th>\n",
       "      <th></th>\n",
       "      <th></th>\n",
       "      <th></th>\n",
       "      <th></th>\n",
       "      <th></th>\n",
       "      <th></th>\n",
       "      <th></th>\n",
       "    </tr>\n",
       "  </thead>\n",
       "  <tbody>\n",
       "    <tr>\n",
       "      <th>464589</th>\n",
       "      <td>A</td>\n",
       "      <td>A</td>\n",
       "      <td>A</td>\n",
       "      <td>A</td>\n",
       "      <td>B</td>\n",
       "      <td>B</td>\n",
       "      <td>A</td>\n",
       "      <td>E</td>\n",
       "      <td>A</td>\n",
       "      <td>H</td>\n",
       "      <td>...</td>\n",
       "      <td>0.28209</td>\n",
       "      <td>0.39187</td>\n",
       "      <td>0.37791</td>\n",
       "      <td>0.35714</td>\n",
       "      <td>0.43700</td>\n",
       "      <td>0.32367</td>\n",
       "      <td>0.54198</td>\n",
       "      <td>0.37136</td>\n",
       "      <td>0.38006</td>\n",
       "      <td>0.73431</td>\n",
       "    </tr>\n",
       "    <tr>\n",
       "      <th>39160</th>\n",
       "      <td>A</td>\n",
       "      <td>A</td>\n",
       "      <td>A</td>\n",
       "      <td>C</td>\n",
       "      <td>B</td>\n",
       "      <td>D</td>\n",
       "      <td>A</td>\n",
       "      <td>E</td>\n",
       "      <td>C</td>\n",
       "      <td>F</td>\n",
       "      <td>...</td>\n",
       "      <td>0.27939</td>\n",
       "      <td>0.40697</td>\n",
       "      <td>0.72917</td>\n",
       "      <td>0.68887</td>\n",
       "      <td>0.46054</td>\n",
       "      <td>0.58760</td>\n",
       "      <td>0.91763</td>\n",
       "      <td>0.85978</td>\n",
       "      <td>0.38625</td>\n",
       "      <td>0.38306</td>\n",
       "    </tr>\n",
       "    <tr>\n",
       "      <th>55733</th>\n",
       "      <td>A</td>\n",
       "      <td>A</td>\n",
       "      <td>A</td>\n",
       "      <td>A</td>\n",
       "      <td>B</td>\n",
       "      <td>D</td>\n",
       "      <td>A</td>\n",
       "      <td>E</td>\n",
       "      <td>C</td>\n",
       "      <td>F</td>\n",
       "      <td>...</td>\n",
       "      <td>0.27850</td>\n",
       "      <td>0.56523</td>\n",
       "      <td>0.71266</td>\n",
       "      <td>0.88031</td>\n",
       "      <td>0.45310</td>\n",
       "      <td>0.59965</td>\n",
       "      <td>0.80885</td>\n",
       "      <td>0.60043</td>\n",
       "      <td>0.86587</td>\n",
       "      <td>0.71623</td>\n",
       "    </tr>\n",
       "    <tr>\n",
       "      <th>97702</th>\n",
       "      <td>A</td>\n",
       "      <td>A</td>\n",
       "      <td>A</td>\n",
       "      <td>C</td>\n",
       "      <td>B</td>\n",
       "      <td>D</td>\n",
       "      <td>A</td>\n",
       "      <td>E</td>\n",
       "      <td>C</td>\n",
       "      <td>K</td>\n",
       "      <td>...</td>\n",
       "      <td>0.61301</td>\n",
       "      <td>0.93478</td>\n",
       "      <td>0.37334</td>\n",
       "      <td>0.94991</td>\n",
       "      <td>0.97579</td>\n",
       "      <td>0.83216</td>\n",
       "      <td>0.74999</td>\n",
       "      <td>0.81728</td>\n",
       "      <td>0.61453</td>\n",
       "      <td>0.81351</td>\n",
       "    </tr>\n",
       "    <tr>\n",
       "      <th>337310</th>\n",
       "      <td>A</td>\n",
       "      <td>B</td>\n",
       "      <td>A</td>\n",
       "      <td>C</td>\n",
       "      <td>B</td>\n",
       "      <td>D</td>\n",
       "      <td>A</td>\n",
       "      <td>E</td>\n",
       "      <td>C</td>\n",
       "      <td>H</td>\n",
       "      <td>...</td>\n",
       "      <td>0.72733</td>\n",
       "      <td>0.68813</td>\n",
       "      <td>0.45907</td>\n",
       "      <td>0.69450</td>\n",
       "      <td>0.44414</td>\n",
       "      <td>0.45540</td>\n",
       "      <td>0.41404</td>\n",
       "      <td>0.47312</td>\n",
       "      <td>0.70891</td>\n",
       "      <td>0.35307</td>\n",
       "    </tr>\n",
       "  </tbody>\n",
       "</table>\n",
       "<p>5 rows × 24 columns</p>\n",
       "</div>"
      ],
      "text/plain": [
       "       cat0 cat1 cat2 cat3 cat4 cat5 cat6 cat7 cat8 cat9  ...    cont4  \\\n",
       "id                                                        ...            \n",
       "464589    A    A    A    A    B    B    A    E    A    H  ...  0.28209   \n",
       "39160     A    A    A    C    B    D    A    E    C    F  ...  0.27939   \n",
       "55733     A    A    A    A    B    D    A    E    C    F  ...  0.27850   \n",
       "97702     A    A    A    C    B    D    A    E    C    K  ...  0.61301   \n",
       "337310    A    B    A    C    B    D    A    E    C    H  ...  0.72733   \n",
       "\n",
       "          cont5    cont6    cont7    cont8    cont9   cont10   cont11  \\\n",
       "id                                                                      \n",
       "464589  0.39187  0.37791  0.35714  0.43700  0.32367  0.54198  0.37136   \n",
       "39160   0.40697  0.72917  0.68887  0.46054  0.58760  0.91763  0.85978   \n",
       "55733   0.56523  0.71266  0.88031  0.45310  0.59965  0.80885  0.60043   \n",
       "97702   0.93478  0.37334  0.94991  0.97579  0.83216  0.74999  0.81728   \n",
       "337310  0.68813  0.45907  0.69450  0.44414  0.45540  0.41404  0.47312   \n",
       "\n",
       "         cont12   cont13  \n",
       "id                        \n",
       "464589  0.38006  0.73431  \n",
       "39160   0.38625  0.38306  \n",
       "55733   0.86587  0.71623  \n",
       "97702   0.61453  0.81351  \n",
       "337310  0.70891  0.35307  \n",
       "\n",
       "[5 rows x 24 columns]"
      ]
     },
     "execution_count": 66,
     "metadata": {},
     "output_type": "execute_result"
    }
   ],
   "source": [
    "df_test = pd.read_csv(\"test_prob.csv\", index_col=\"id\")\n",
    "df_test.head()"
   ]
  },
  {
   "cell_type": "code",
   "execution_count": 15,
   "id": "e4f3fe4a",
   "metadata": {
    "scrolled": true
   },
   "outputs": [
    {
     "data": {
      "text/html": [
       "<div>\n",
       "<style scoped>\n",
       "    .dataframe tbody tr th:only-of-type {\n",
       "        vertical-align: middle;\n",
       "    }\n",
       "\n",
       "    .dataframe tbody tr th {\n",
       "        vertical-align: top;\n",
       "    }\n",
       "\n",
       "    .dataframe thead th {\n",
       "        text-align: right;\n",
       "    }\n",
       "</style>\n",
       "<table border=\"1\" class=\"dataframe\">\n",
       "  <thead>\n",
       "    <tr style=\"text-align: right;\">\n",
       "      <th></th>\n",
       "      <th>target</th>\n",
       "    </tr>\n",
       "    <tr>\n",
       "      <th>id</th>\n",
       "      <th></th>\n",
       "    </tr>\n",
       "  </thead>\n",
       "  <tbody>\n",
       "    <tr>\n",
       "      <th>464589</th>\n",
       "      <td>7.029859</td>\n",
       "    </tr>\n",
       "    <tr>\n",
       "      <th>39160</th>\n",
       "      <td>7.192453</td>\n",
       "    </tr>\n",
       "    <tr>\n",
       "      <th>55733</th>\n",
       "      <td>5.785315</td>\n",
       "    </tr>\n",
       "    <tr>\n",
       "      <th>97702</th>\n",
       "      <td>8.137591</td>\n",
       "    </tr>\n",
       "    <tr>\n",
       "      <th>337310</th>\n",
       "      <td>7.927125</td>\n",
       "    </tr>\n",
       "  </tbody>\n",
       "</table>\n",
       "</div>"
      ],
      "text/plain": [
       "          target\n",
       "id              \n",
       "464589  7.029859\n",
       "39160   7.192453\n",
       "55733   5.785315\n",
       "97702   8.137591\n",
       "337310  7.927125"
      ]
     },
     "execution_count": 15,
     "metadata": {},
     "output_type": "execute_result"
    }
   ],
   "source": [
    "df_ans = pd.read_csv(\"test_prob_ans.csv\", index_col=\"id\")\n",
    "df_ans.head()"
   ]
  },
  {
   "cell_type": "markdown",
   "id": "d2baf77f",
   "metadata": {},
   "source": [
    "## test 셋의 카테고리가 train과 일치하는지 판별하기"
   ]
  },
  {
   "cell_type": "code",
   "execution_count": 67,
   "id": "2a3161d3",
   "metadata": {
    "scrolled": true
   },
   "outputs": [
    {
     "data": {
      "text/plain": [
       "0"
      ]
     },
     "execution_count": 67,
     "metadata": {},
     "output_type": "execute_result"
    }
   ],
   "source": [
    "# 결측치 확인\n",
    "df_test.isna().sum().sum()"
   ]
  },
  {
   "cell_type": "code",
   "execution_count": 68,
   "id": "bb7604e1",
   "metadata": {},
   "outputs": [
    {
     "data": {
      "text/plain": [
       "False"
      ]
     },
     "execution_count": 68,
     "metadata": {},
     "output_type": "execute_result"
    }
   ],
   "source": [
    "# cat1에 대해서 확인, set으로 하면 순서 상관없이 요소 유일하게 비교\n",
    "set(df_test[\"cat1\"].unique()) != set(df_train[\"cat1\"].unique())"
   ]
  },
  {
   "cell_type": "code",
   "execution_count": 75,
   "id": "bb853837",
   "metadata": {},
   "outputs": [
    {
     "data": {
      "text/plain": [
       "['cat3', 'cat4', 'cat6', 'cat7', 'cat8', 'cat9']"
      ]
     },
     "execution_count": 75,
     "metadata": {},
     "output_type": "execute_result"
    }
   ],
   "source": [
    "cat_diff = []\n",
    "for i in range(10):\n",
    "    cat = \"cat{}\".format(i)\n",
    "    check = set(df_test[cat].unique()) != set(df_train[cat].unique())\n",
    "    if check:\n",
    "        cat_diff = cat_diff + [cat]\n",
    "cat_diff"
   ]
  },
  {
   "cell_type": "code",
   "execution_count": 77,
   "id": "625afb9f",
   "metadata": {
    "scrolled": true
   },
   "outputs": [
    {
     "name": "stdout",
     "output_type": "stream",
     "text": [
      "['A' 'C' 'D' 'B'] ['C' 'A' 'D']\n",
      "C    36892\n",
      "A    20830\n",
      "D     2169\n",
      "B      109\n",
      "Name: cat3, dtype: int64\n",
      "['B' 'C' 'D' 'A'] ['B' 'C']\n",
      "B    59490\n",
      "A      211\n",
      "C      164\n",
      "D      135\n",
      "Name: cat4, dtype: int64\n",
      "['A' 'C' 'B' 'I' 'H' 'D' 'E' 'G'] ['A' 'B' 'C']\n",
      "A    58580\n",
      "B     1221\n",
      "C      159\n",
      "D       29\n",
      "E        5\n",
      "H        3\n",
      "I        2\n",
      "G        1\n",
      "Name: cat6, dtype: int64\n",
      "['E' 'D' 'B' 'G' 'F' 'C' 'A'] ['E' 'D' 'G' 'B']\n",
      "E    53604\n",
      "D     4798\n",
      "B     1162\n",
      "G      378\n",
      "F       53\n",
      "A        4\n",
      "C        1\n",
      "Name: cat7, dtype: int64\n",
      "['A' 'C' 'G' 'E' 'D' 'F' 'B'] ['G' 'C' 'E' 'A' 'D']\n",
      "C    24311\n",
      "E    18976\n",
      "G     8326\n",
      "A     7540\n",
      "D      741\n",
      "F      104\n",
      "B        2\n",
      "Name: cat8, dtype: int64\n",
      "['H' 'F' 'K' 'J' 'N' 'O' 'A' 'L' 'G' 'I' 'M' 'B' 'C' 'D' 'E'] ['G' 'F' 'J' 'L' 'K' 'I' 'H' 'B' 'O' 'A' 'N' 'M']\n",
      "F    21337\n",
      "I     9994\n",
      "L     8466\n",
      "H     4936\n",
      "K     4212\n",
      "A     2730\n",
      "G     2089\n",
      "M     2019\n",
      "J     1480\n",
      "O     1205\n",
      "N      781\n",
      "B      672\n",
      "C       45\n",
      "D       20\n",
      "E       14\n",
      "Name: cat9, dtype: int64\n"
     ]
    }
   ],
   "source": [
    "for i in cat_diff:\n",
    "    print(df_test[i].unique(), df_train[i].unique())\n",
    "    print(df_test[i].value_counts())"
   ]
  },
  {
   "cell_type": "code",
   "execution_count": 94,
   "id": "3f8a72fe",
   "metadata": {},
   "outputs": [
    {
     "data": {
      "text/plain": [
       "[[20830, 37001, 2169],\n",
       " [59836, 164],\n",
       " [58611, 1229, 160],\n",
       " [1167, 4851, 53604, 378],\n",
       " [7540, 24311, 741, 19080, 8328],\n",
       " [2730, 692, 21337, 2089, 4981, 9994, 1480, 4212, 8480, 2019, 781, 1205]]"
      ]
     },
     "execution_count": 94,
     "metadata": {},
     "output_type": "execute_result"
    }
   ],
   "source": [
    "# 작업결과 수작업 코드로 체크하기 위해서 확인\n",
    "ret = []\n",
    "\n",
    "cat3_ret = df_test[\"cat3\"].value_counts().sort_index()\n",
    "cat3_ret[\"C\"] = cat3_ret[\"C\"] + cat3_ret[\"B\"]\n",
    "cat3_ret = cat3_ret.drop(index=\"B\")\n",
    "ret = ret + [list(cat3_ret.values)]\n",
    "\n",
    "cat4_ret = df_test[\"cat4\"].value_counts().sort_index()\n",
    "cat4_ret[\"B\"] = cat4_ret[\"B\"] + cat4_ret[\"A\"] + cat4_ret[\"D\"]\n",
    "cat4_ret = cat4_ret.drop(index=[\"A\", \"D\"])\n",
    "ret = ret + [list(cat4_ret.values)]\n",
    "\n",
    "cat6_ret = df_test[\"cat6\"].value_counts().sort_index()\n",
    "cat6_ret[\"A\"] = cat6_ret[\"A\"] + cat6_ret[\"D\"] + cat6_ret[\"I\"]\n",
    "cat6_ret[\"B\"] = cat6_ret[\"B\"] + cat6_ret[\"E\"] + cat6_ret[\"H\"]\n",
    "cat6_ret[\"C\"] = cat6_ret[\"C\"] + cat6_ret[\"G\"]\n",
    "cat6_ret = cat6_ret.drop(index=[\"D\", \"E\", \"G\", \"H\", \"I\"])\n",
    "ret = ret + [list(cat6_ret.values)]\n",
    "\n",
    "# cat7에 \"I\" 품목이 test셋엔 없어서 생략\n",
    "cat7_ret = df_test[\"cat7\"].value_counts().sort_index()\n",
    "cat7_ret[\"B\"] = cat7_ret[\"B\"] + cat7_ret[\"A\"] + cat7_ret[\"C\"]\n",
    "cat7_ret[\"D\"] = cat7_ret[\"D\"] + cat7_ret[\"F\"]\n",
    "cat7_ret = cat7_ret.drop(index=[\"A\", \"C\", \"F\"])\n",
    "ret = ret + [list(cat7_ret.values)]\n",
    "\n",
    "cat8_ret = df_test[\"cat8\"].value_counts().sort_index()\n",
    "cat8_ret[\"G\"] = cat8_ret[\"G\"] + cat8_ret[\"B\"]\n",
    "cat8_ret[\"E\"] = cat8_ret[\"E\"] + cat8_ret[\"F\"]\n",
    "cat8_ret = cat8_ret.drop(index=[\"B\", \"F\"])\n",
    "ret = ret + [list(cat8_ret.values)]\n",
    "\n",
    "cat9_ret = df_test[\"cat9\"].value_counts().sort_index()\n",
    "cat9_ret[\"B\"] = cat9_ret[\"B\"] + cat9_ret[\"D\"]\n",
    "cat9_ret[\"H\"] = cat9_ret[\"H\"] + cat9_ret[\"C\"]\n",
    "cat9_ret[\"L\"] = cat9_ret[\"L\"] + cat9_ret[\"E\"]\n",
    "cat9_ret = cat9_ret.drop(index=[\"D\", \"C\", \"E\"])\n",
    "ret = ret + [list(cat9_ret.values)]\n",
    "\n",
    "ret"
   ]
  },
  {
   "cell_type": "code",
   "execution_count": 80,
   "id": "afcc5131",
   "metadata": {},
   "outputs": [
    {
     "data": {
      "text/plain": [
       "array([36892, 20830,  2169,   109])"
      ]
     },
     "execution_count": 80,
     "metadata": {},
     "output_type": "execute_result"
    }
   ],
   "source": [
    ".values"
   ]
  },
  {
   "cell_type": "code",
   "execution_count": 95,
   "id": "b6b164fa",
   "metadata": {},
   "outputs": [
    {
     "name": "stdout",
     "output_type": "stream",
     "text": [
      "cat3 {'B': 'C'} [20830, 37001, 2169]\n",
      "cat4 {'A': 'B', 'D': 'B'} [59836, 164]\n",
      "cat6 {'D': 'A', 'E': 'B', 'G': 'C', 'H': 'B', 'I': 'A'} [58611, 1229, 160]\n",
      "cat7 {'A': 'B', 'C': 'B', 'F': 'D'} [1167, 4851, 53604, 378]\n",
      "cat8 {'B': 'G', 'F': 'E'} [7540, 24311, 741, 19080, 8328]\n",
      "cat9 {'C': 'H', 'D': 'B', 'E': 'L'} [2730, 692, 21337, 2089, 4981, 9994, 1480, 4212, 8480, 2019, 781, 1205]\n"
     ]
    }
   ],
   "source": [
    "# train 전처리 적용\n",
    "# cat7에 \"I\" 품목이 test셋엔 없어서 생략\n",
    "repl_list = [\n",
    "    ('cat3', {'B': 'C'}, [20830, 37001, 2169]),\n",
    "    ('cat4', {'A': 'B', 'D': 'B'}, [59836, 164]), \n",
    "    ('cat6', {'D': 'A', 'E': 'B', 'G': 'C', 'H': 'B', 'I': 'A'}, [58611, 1229, 160]),\n",
    "    ('cat7', {'A': 'B', 'C': 'B', 'F': 'D'}, [1167, 4851, 53604, 378]),\n",
    "    ('cat8', {'B': 'G', 'F': 'E'}, [7540, 24311, 741, 19080, 8328]),\n",
    "    ('cat9', {'C': 'H', 'D': 'B', 'E': 'L'}, [2730, 692, 21337, 2089, 4981, 9994, 1480, 4212, 8480, 2019, 781, 1205])\n",
    "]\n",
    "\n",
    "for c, d, cnt in repl_list:\n",
    "    # 위에서 설계한 로직을 적용합니다.\n",
    "    # 처리한 값을 저장합니다.\n",
    "    df_test[c] = df_test[c].replace(d)\n",
    "    # 카운트가 다른 게 있는지 확인 합니다.\n",
    "    if (df_test[c].value_counts().sort_index() != cnt).sum() != 0:\n",
    "        print('error', c, d, cnt)\n",
    "    print(c, d, cnt)"
   ]
  },
  {
   "cell_type": "code",
   "execution_count": 96,
   "id": "233528f6",
   "metadata": {},
   "outputs": [
    {
     "data": {
      "text/plain": [
       "[]"
      ]
     },
     "execution_count": 96,
     "metadata": {},
     "output_type": "execute_result"
    }
   ],
   "source": [
    "# 트레이닝셋과 차이 있는지 체크\n",
    "cat_diff_2 = []\n",
    "for i in range(10):\n",
    "    cat = \"cat{}\".format(i)\n",
    "    check = set(df_test[cat].unique()) != set(df_train[cat].unique())\n",
    "    if check:\n",
    "        cat_diff_2 = cat_diff_2 + [cat]\n",
    "cat_diff_2"
   ]
  },
  {
   "cell_type": "markdown",
   "id": "5726e8f8",
   "metadata": {},
   "source": [
    "## test 셋으로 점수 내기"
   ]
  },
  {
   "cell_type": "code",
   "execution_count": 106,
   "id": "b974c71a",
   "metadata": {},
   "outputs": [
    {
     "data": {
      "text/plain": [
       "Index(['cat0', 'cat1', 'cat2', 'cat3', 'cat4', 'cat5', 'cat6', 'cat7', 'cat8',\n",
       "       'cat9', 'cont0', 'cont1', 'cont2', 'cont3', 'cont4', 'cont5', 'cont6',\n",
       "       'cont7', 'cont8', 'cont9', 'cont10', 'cont11', 'cont12', 'cont13'],\n",
       "      dtype='object')"
      ]
     },
     "execution_count": 106,
     "metadata": {},
     "output_type": "execute_result"
    }
   ],
   "source": [
    "X_input"
   ]
  },
  {
   "cell_type": "code",
   "execution_count": 120,
   "id": "98fe72cc",
   "metadata": {},
   "outputs": [],
   "source": [
    "# 기본점수 확보\n",
    "# reg_l2 fitting 시키고 test셋 예측\n",
    "reg_l2.fit(X=df_train[X_input], y=df_train['target'])\n",
    "pd.DataFrame(\n",
    "    reg_l2.predict(df_test[X_input]),\n",
    "    index=df_test.index,\n",
    "    columns=['target']\n",
    ").to_csv('answer6.csv')"
   ]
  },
  {
   "cell_type": "code",
   "execution_count": 122,
   "id": "572b6f19",
   "metadata": {},
   "outputs": [
    {
     "data": {
      "text/plain": [
       "0.7534794238467234"
      ]
     },
     "execution_count": 122,
     "metadata": {},
     "output_type": "execute_result"
    }
   ],
   "source": [
    "# 이때의 오차 기록\n",
    "mse(y_true=df_ans[\"target\"], y_pred=reg_l2.predict(df_test[X_input]))"
   ]
  },
  {
   "cell_type": "markdown",
   "id": "433ee09f",
   "metadata": {},
   "source": [
    "L2 썼을 때 에러기록  \n",
    "(array([-0.74990495, -0.74968553, -0.75681724, -0.74735325, -0.74242976]), -0.7492381471930587)  \n",
    "테스트데이터셋 에러 0.7534794238467234  \n",
    "\n",
    "### 다른 회귀모델 서치"
   ]
  },
  {
   "cell_type": "code",
   "execution_count": 130,
   "id": "12588e5d",
   "metadata": {},
   "outputs": [
    {
     "name": "stdout",
     "output_type": "stream",
     "text": [
      "[LR] 학습 데이터셋에서 성능 [-0.74990499 -0.74968555 -0.75681736 -0.74735318 -0.74242974] -0.7492381624593665\n"
     ]
    }
   ],
   "source": [
    "from sklearn.linear_model import LinearRegression\n",
    "\n",
    "reg_lr = make_pipeline(ct, LinearRegression())\n",
    "scores_ = cross_val_score(reg_lr, X=df_train[X_input], y=df_train['target'], cv=cv, scoring=\"neg_mean_squared_error\")\n",
    "print(\"[LR] 학습 데이터셋에서 에러\", scores_, np.mean(scores_))"
   ]
  },
  {
   "cell_type": "code",
   "execution_count": 131,
   "id": "e5cb6a12",
   "metadata": {},
   "outputs": [
    {
     "name": "stdout",
     "output_type": "stream",
     "text": [
      "[LR] 테스트데이터셋에서 성능 0.7534793729981695\n"
     ]
    }
   ],
   "source": [
    "reg_lr.fit(X=df_train[X_input], y=df_train['target'])\n",
    "print(\"[LR] 테스트데이터셋에서 에러\", mse(y_true=df_ans[\"target\"], y_pred=reg_lr.predict(df_test[X_input])))"
   ]
  },
  {
   "cell_type": "code",
   "execution_count": 132,
   "id": "43e9ba42",
   "metadata": {},
   "outputs": [
    {
     "name": "stdout",
     "output_type": "stream",
     "text": [
      "[Lasso] 학습 데이터셋에서 성능 [-0.7866382  -0.7865512  -0.7909526  -0.78725091 -0.77993245] -0.7862650737254838\n"
     ]
    }
   ],
   "source": [
    "from sklearn.linear_model import Lasso\n",
    "\n",
    "reg_l1 = make_pipeline(ct, Lasso(0.1))\n",
    "scores_ = cross_val_score(reg_l1, X=df_train[X_input], y=df_train['target'], cv=cv, scoring=\"neg_mean_squared_error\")\n",
    "print(\"[Lasso] 학습 데이터셋에서 에러\", scores_, np.mean(scores_))"
   ]
  },
  {
   "cell_type": "code",
   "execution_count": 133,
   "id": "50b19050",
   "metadata": {
    "scrolled": true
   },
   "outputs": [
    {
     "name": "stdout",
     "output_type": "stream",
     "text": [
      "[Lasso] 테스트데이터셋에서 성능 0.7914154849133085\n"
     ]
    }
   ],
   "source": [
    "reg_l1.fit(X=df_train[X_input], y=df_train['target'])\n",
    "print(\"[Lasso] 테스트데이터셋에서 에러\", mse(y_true=df_ans[\"target\"], y_pred=reg_l1.predict(df_test[X_input])))"
   ]
  },
  {
   "cell_type": "code",
   "execution_count": 137,
   "id": "3bb2f596",
   "metadata": {},
   "outputs": [
    {
     "name": "stdout",
     "output_type": "stream",
     "text": [
      "[Bagging] 학습 데이터셋에서 에러 [-0.78497516 -0.78512242 -0.79132555 -0.78424848 -0.77549323] -0.7842329683065039\n"
     ]
    }
   ],
   "source": [
    "from sklearn.ensemble import BaggingRegressor\n",
    "\n",
    "reg_bagg = make_pipeline(ct, BaggingRegressor(\n",
    "    n_estimators=20, random_state=123\n",
    "))\n",
    "scores_ = cross_val_score(reg_bagg, df_train[X_input], df_train['target'], cv=cv, scoring=\"neg_mean_squared_error\")\n",
    "print(\"[Bagging] 학습 데이터셋에서 에러\", scores_, np.mean(scores_))"
   ]
  },
  {
   "cell_type": "code",
   "execution_count": 138,
   "id": "4d778b26",
   "metadata": {},
   "outputs": [
    {
     "name": "stdout",
     "output_type": "stream",
     "text": [
      "[Bagging] 테스트데이터셋에서 에러 0.7845141476903746\n"
     ]
    }
   ],
   "source": [
    "reg_bagg.fit(X=df_train[X_input], y=df_train['target'])\n",
    "print(\"[Bagging] 테스트데이터셋에서 에러\", mse(y_true=df_ans[\"target\"], y_pred=reg_bagg.predict(df_test[X_input])))"
   ]
  },
  {
   "cell_type": "code",
   "execution_count": 139,
   "id": "dcb31710",
   "metadata": {},
   "outputs": [
    {
     "name": "stdout",
     "output_type": "stream",
     "text": [
      "[RandomForest] 학습 데이터셋에서 에러 [-0.7624887  -0.7624305  -0.76737774 -0.76233356 -0.75654932] -0.7622359639782273\n"
     ]
    }
   ],
   "source": [
    "from sklearn.ensemble import RandomForestRegressor\n",
    "\n",
    "reg_rf = make_pipeline(ct, RandomForestRegressor(\n",
    "    n_estimators=10, max_depth=3, min_samples_split= 100, random_state=123\n",
    "))\n",
    "scores_ = cross_val_score(reg_rf, df_train[X_input], df_train['target'], cv=cv, scoring=\"neg_mean_squared_error\")\n",
    "print(\"[RandomForest] 학습 데이터셋에서 에러\", scores_, np.mean(scores_))"
   ]
  },
  {
   "cell_type": "code",
   "execution_count": 140,
   "id": "c160913d",
   "metadata": {},
   "outputs": [
    {
     "name": "stdout",
     "output_type": "stream",
     "text": [
      "[RandomForest] 테스트데이터셋에서 에러 0.7687200472510402\n"
     ]
    }
   ],
   "source": [
    "reg_rf.fit(X=df_train[X_input], y=df_train['target'])\n",
    "print(\"[RandomForest] 테스트데이터셋에서 에러\", mse(y_true=df_ans[\"target\"], y_pred=reg_rf.predict(df_test[X_input])))"
   ]
  },
  {
   "cell_type": "code",
   "execution_count": 143,
   "id": "262cee5d",
   "metadata": {},
   "outputs": [
    {
     "name": "stdout",
     "output_type": "stream",
     "text": [
      "[AdaBoost] 학습 데이터셋에서 에러 [-0.76782987 -0.76752361 -0.7722455  -0.7663888  -0.76114971] -0.7670274985678095\n"
     ]
    }
   ],
   "source": [
    "from sklearn.ensemble import AdaBoostRegressor\n",
    "from sklearn.tree import DecisionTreeRegressor\n",
    "\n",
    "reg_adb = make_pipeline(ct, AdaBoostRegressor(\n",
    "    base_estimator=DecisionTreeRegressor(max_depth=2, min_samples_leaf=100), n_estimators=3, learning_rate=0.5, random_state=123\n",
    "))\n",
    "scores_ = cross_val_score(reg_adb, df_train[X_input], df_train['target'], cv=cv, scoring=\"neg_mean_squared_error\")\n",
    "print(\"[AdaBoost] 학습 데이터셋에서 에러\", scores_, np.mean(scores_))"
   ]
  },
  {
   "cell_type": "code",
   "execution_count": 144,
   "id": "4c89210f",
   "metadata": {},
   "outputs": [
    {
     "name": "stdout",
     "output_type": "stream",
     "text": [
      "[AdaBoost] 테스트데이터셋에서 에러 0.7914154849133085\n"
     ]
    }
   ],
   "source": [
    "reg_l1.fit(X=df_train[X_input], y=df_train['target'])\n",
    "print(\"[AdaBoost] 테스트데이터셋에서 에러\", mse(y_true=df_ans[\"target\"], y_pred=reg_l1.predict(df_test[X_input])))"
   ]
  },
  {
   "cell_type": "code",
   "execution_count": 145,
   "id": "55d361b2",
   "metadata": {},
   "outputs": [
    {
     "name": "stdout",
     "output_type": "stream",
     "text": [
      "[xgboost] 학습 데이터셋에서 에러 [-0.7315781  -0.73241635 -0.73906267 -0.72923725 -0.72423418] -0.731305709180708\n"
     ]
    }
   ],
   "source": [
    "from xgboost import XGBRegressor\n",
    "\n",
    "reg_xgb = make_pipeline(ct, XGBRegressor(\n",
    "    colsample_bytree=0.25, n_estimators=500, max_depth=2, random_state=123\n",
    "))\n",
    "scores_ = cross_val_score(reg_xgb, df_train[X_input], df_train['target'], cv=cv, scoring=\"neg_mean_squared_error\")\n",
    "print(\"[xgboost] 학습 데이터셋에서 에러\", scores_, np.mean(scores_))"
   ]
  },
  {
   "cell_type": "code",
   "execution_count": 146,
   "id": "64b0bd9c",
   "metadata": {},
   "outputs": [
    {
     "name": "stdout",
     "output_type": "stream",
     "text": [
      "[xgboost] 테스트데이터셋에서 에러 0.7364352954406531\n"
     ]
    }
   ],
   "source": [
    "reg_xgb.fit(X=df_train[X_input], y=df_train['target'])\n",
    "print(\"[xgboost] 테스트데이터셋에서 에러\", mse(y_true=df_ans[\"target\"], y_pred=reg_xgb.predict(df_test[X_input])))"
   ]
  },
  {
   "cell_type": "code",
   "execution_count": 147,
   "id": "4d810b81",
   "metadata": {},
   "outputs": [
    {
     "name": "stdout",
     "output_type": "stream",
     "text": [
      "[Voting] 학습 데이터셋에서 에러 [-0.74271021 -0.74270667 -0.74887949 -0.74055198 -0.73526136] -0.7420219429763866\n"
     ]
    }
   ],
   "source": [
    "from sklearn.ensemble import VotingRegressor\n",
    "\n",
    "# 앙상블시 가장 좋은 성능을 보인 조합입니다.\n",
    "reg_vt = VotingRegressor([\n",
    "        ('lr', reg_lr), # LinearRegression\n",
    "        ('lr_2', reg_l2), # Ridge\n",
    "        ('rf', reg_rf), # RandomForest\n",
    "        ('xgb', reg_xgb) # xgboost\n",
    "])\n",
    "scores_ = cross_val_score(reg_vt, df_train[X_input], df_train['target'], cv=cv, scoring=\"neg_mean_squared_error\")\n",
    "print(\"[Voting] 학습 데이터셋에서 에러\", scores_, np.mean(scores_))"
   ]
  },
  {
   "cell_type": "code",
   "execution_count": 148,
   "id": "6368a1fe",
   "metadata": {},
   "outputs": [
    {
     "name": "stdout",
     "output_type": "stream",
     "text": [
      "[Voting] 테스트데이터셋에서 에러 0.7469883924033374\n"
     ]
    }
   ],
   "source": [
    "reg_vt.fit(X=df_train[X_input], y=df_train['target'])\n",
    "print(\"[Voting] 테스트데이터셋에서 에러\", mse(y_true=df_ans[\"target\"], y_pred=reg_vt.predict(df_test[X_input])))"
   ]
  },
  {
   "cell_type": "code",
   "execution_count": 149,
   "id": "78505141",
   "metadata": {},
   "outputs": [],
   "source": [
    "# Voting 모델로 결과 제출\n",
    "pd.DataFrame(\n",
    "    reg_vt.predict(df_test[X_input]),\n",
    "    index=df_test.index,\n",
    "    columns=['target']\n",
    ").to_csv('answer6.csv')"
   ]
  },
  {
   "cell_type": "code",
   "execution_count": 150,
   "id": "248fdb5d",
   "metadata": {},
   "outputs": [],
   "source": [
    "# 문제 4에서 뽑아낸 파생변수를 만들어봅니다.\n",
    "\n",
    "q = [i * 0.01 for i in range(101)]\n",
    "for i in range(0, 14):\n",
    "    col = 'cont{}'.format(i)\n",
    "    col_q = col + '_q' \n",
    "    q_val = df_train[col].quantile(q)\n",
    "    q_val.iloc[[0, -1]] = [-np.inf, np.inf]\n",
    "    q_cat = pd.cut(df_train[col], bins=q_val, right=True)\n",
    "    q_mean = df_train.groupby(q_cat)['target'].mean()\n",
    "    df_train[col_q] = q_cat.map(q_mean).astype('float')\n",
    "    df_test[col_q] = pd.cut(df_test[col], bins=q_val, right=True).map(q_mean).astype('float')"
   ]
  },
  {
   "cell_type": "code",
   "execution_count": 159,
   "id": "c0140f77",
   "metadata": {},
   "outputs": [],
   "source": [
    "# df_train.columns[-14:]\n",
    "X_input_2 = [i for i in df_train.columns if i.startswith('cat')] + [i for i in df_train.columns[-14:]]"
   ]
  },
  {
   "cell_type": "code",
   "execution_count": 172,
   "id": "32540a0d",
   "metadata": {},
   "outputs": [
    {
     "name": "stdout",
     "output_type": "stream",
     "text": [
      "[Ridge_2] 학습 데이터셋에서 에러 [-0.71515745 -0.71661105 -0.72193934 -0.71221067 -0.70710866] -0.714605433545979\n",
      "[Ridge_2] 테스트데이터셋에서 에러 0.7238492549712147\n"
     ]
    }
   ],
   "source": [
    "# 파생변수 적용한 Ridge\n",
    "ct_2 = ColumnTransformer([\n",
    "    ('pt', \"passthrough\", [i for i in df_train.columns[-14:]]),\n",
    "    ('ohe', OneHotEncoder(drop=\"first\"), [i for i in df_train.columns if i.startswith('cat')]),\n",
    "])\n",
    "reg_l2_2 = make_pipeline(ct_2, Ridge(0.2))\n",
    "scores_ = cross_val_score(reg_l2_2, df_train[X_input_2], df_train['target'], cv=cv, scoring=\"neg_mean_squared_error\")\n",
    "print(\"[Ridge_2] 학습 데이터셋에서 에러\", scores_, np.mean(scores_))\n",
    "reg_l2_2.fit(X=df_train[X_input_2], y=df_train['target'])\n",
    "print(\"[Ridge_2] 테스트데이터셋에서 에러\", mse(y_true=df_ans[\"target\"], y_pred=reg_l2_2.predict(df_test[X_input_2])))"
   ]
  },
  {
   "cell_type": "code",
   "execution_count": 162,
   "id": "cc96578a",
   "metadata": {},
   "outputs": [
    {
     "name": "stdout",
     "output_type": "stream",
     "text": [
      "[LinearRegression_2] 학습 데이터셋에서 에러 [-0.7151571  -0.71661149 -0.7219398  -0.71221046 -0.70710867] -0.7146055045592127\n",
      "[LinearRegression_2] 테스트데이터셋에서 에러 0.7238503275095004\n"
     ]
    }
   ],
   "source": [
    "reg_lr_2 = make_pipeline(ct_2, LinearRegression())\n",
    "scores_ = cross_val_score(reg_lr_2, df_train[X_input_2], df_train['target'], cv=cv, scoring=\"neg_mean_squared_error\")\n",
    "print(\"[LinearRegression_2] 학습 데이터셋에서 에러\", scores_, np.mean(scores_))\n",
    "reg_lr_2.fit(X=df_train[X_input_2], y=df_train['target'])\n",
    "print(\"[LinearRegression_2] 테스트데이터셋에서 에러\", mse(y_true=df_ans[\"target\"], y_pred=reg_lr_2.predict(df_test[X_input_2])))"
   ]
  },
  {
   "cell_type": "code",
   "execution_count": null,
   "id": "cfc2a71c",
   "metadata": {},
   "outputs": [],
   "source": [
    "reg_rf_2 = make_pipeline(ct_2, RandomForestRegressor(\n",
    "    n_estimators=10, max_depth=3, min_samples_split= 100, random_state=123\n",
    "))\n",
    "scores_ = cross_val_score(reg_rf_2, df_train[X_input_2], df_train['target'], cv=cv, scoring=\"neg_mean_squared_error\")\n",
    "print(\"[RandomForest] 학습 데이터셋에서 에러\", scores_, np.mean(scores_))"
   ]
  },
  {
   "cell_type": "code",
   "execution_count": null,
   "id": "af6808ff",
   "metadata": {},
   "outputs": [],
   "source": [
    "reg_rf_2.fit(X=df_train[X_input_2], y=df_train['target'])\n",
    "print(\"[RandomForest] 테스트데이터셋에서 에러\", mse(y_true=df_ans[\"target\"], y_pred=reg_rf_2.predict(df_test[X_input_2])))"
   ]
  },
  {
   "cell_type": "code",
   "execution_count": null,
   "id": "ba5ac804",
   "metadata": {},
   "outputs": [],
   "source": [
    "### 그리드 서치로 하이퍼파라미터 탐색"
   ]
  },
  {
   "cell_type": "code",
   "execution_count": 168,
   "id": "347a0cb2",
   "metadata": {},
   "outputs": [
    {
     "data": {
      "text/plain": [
       "({'max_depth': 7, 'min_samples_split': 128, 'n_estimators': 15},\n",
       " -0.7368605671495316)"
      ]
     },
     "execution_count": 168,
     "metadata": {},
     "output_type": "execute_result"
    }
   ],
   "source": [
    "from sklearn.model_selection import GridSearchCV\n",
    "\n",
    "# RandomForest의 최적 하이퍼파라미터 그리드서치\n",
    "gscv = GridSearchCV(\n",
    "    estimator=RandomForestRegressor(random_state=123), # Hyper Parameter 탐색할 모델을 세팅합니다. \n",
    "    param_grid={\n",
    "        'n_estimators': [5, 10, 15],\n",
    "        'max_depth': [3, 5, 7],\n",
    "        'min_samples_split': [128, 256, 512]\n",
    "    }, # dict 형식으로 param_grid를 정의합니다. key: 대상 Hyper Parameter, value: 후보 설정값 (List)\n",
    "    scoring='neg_mean_squared_error', # _score로 끝나면 _score를 빼고 넘기고, _error끝나면 neg_를 앞에 붙입니다, ex: neg_mean_squared_error,\n",
    "    cv = cv, # 5겹 교차검증을 정의합니다. \n",
    "    iid = False # 단순평균을 사용합니다. True면 겹외셋의 수에 따라 가중평균으로 구합니다.\n",
    ")\n",
    "do = make_pipeline(ct_2, gscv)\n",
    "do.fit(df_train[X_input_2], df_train['target'])\n",
    "# cv_results_에는 상세 결과가 들어가 있습니다.\n",
    "best_param, best_score = gscv.best_params_, gscv.best_score_\n",
    "best_param, best_score"
   ]
  },
  {
   "cell_type": "code",
   "execution_count": 169,
   "id": "14e4fe3b",
   "metadata": {},
   "outputs": [
    {
     "data": {
      "text/plain": [
       "({'colsample_bytree': 0.1, 'max_depth': 3, 'n_estimators': 700},\n",
       " -0.7129269595085164)"
      ]
     },
     "execution_count": 169,
     "metadata": {},
     "output_type": "execute_result"
    }
   ],
   "source": [
    "# xgboost의 최적 하이퍼파라미터 그리드서치\n",
    "\n",
    "gscv_xgb = GridSearchCV(\n",
    "    estimator=XGBRegressor(random_state=123), # Hyper Parameter 탐색할 모델을 세팅합니다. \n",
    "    param_grid={\n",
    "        'colsample_bytree': [0.1, 0.25, 0.5],\n",
    "        'max_depth': [2, 3],\n",
    "        'n_estimators': [300, 500, 700]\n",
    "    }, # dict 형식으로 param_grid를 정의합니다. key: 대상 Hyper Parameter, value: 후보 설정값 (List)\n",
    "    scoring='neg_mean_squared_error', # _score로 끝나면 _score를 빼고 넘기고, _error끝나면 neg_를 앞에 붙입니다, ex: neg_mean_squared_error,\n",
    "    cv = cv, # 5겹 교차검증을 정의합니다. \n",
    "    iid = False # 단순평균을 사용합니다. True면 겹외셋의 수에 따라 가중평균으로 구합니다.\n",
    ")\n",
    "do_xgb = make_pipeline(ct_2, gscv_xgb)\n",
    "do_xgb.fit(df_train[X_input_2], df_train['target'])\n",
    "# cv_results_에는 상세 결과가 들어가 있습니다.\n",
    "best_param, best_score = gscv_xgb.best_params_, gscv_xgb.best_score_\n",
    "best_param, best_score"
   ]
  },
  {
   "cell_type": "code",
   "execution_count": 173,
   "id": "72a03be7",
   "metadata": {},
   "outputs": [
    {
     "name": "stdout",
     "output_type": "stream",
     "text": [
      "[Voting] 학습 데이터셋에서 에러 [-0.71666961 -0.71766588 -0.72201289 -0.71309604 -0.7080289 ] -0.7154946618184116\n"
     ]
    }
   ],
   "source": [
    "reg_rf_best = make_pipeline(ct_2, RandomForestRegressor(\n",
    "    **{'max_depth': 7, 'min_samples_split': 128, 'n_estimators': 15}, random_state=123\n",
    "))\n",
    "reg_xgb_best = make_pipeline(ct_2, XGBRegressor(\n",
    "    **{'colsample_bytree': 0.1, 'max_depth': 3, 'n_estimators': 700}, random_state=123\n",
    "))\n",
    "\n",
    "\n",
    "# 앙상블시 가장 좋은 성능을 보인 조합들 선택\n",
    "reg_vt_best = VotingRegressor([\n",
    "        ('lr_2', reg_l2_2), # Ridge\n",
    "        ('rf', reg_rf_best), # RandomForest\n",
    "        ('xgb', reg_xgb_best) # xgboost\n",
    "])\n",
    "scores_ = cross_val_score(reg_vt_best, df_train[X_input_2], df_train['target'], cv=cv, scoring=\"neg_mean_squared_error\")\n",
    "print(\"[Voting2] 학습 데이터셋에서 에러\", scores_, np.mean(scores_))"
   ]
  },
  {
   "cell_type": "code",
   "execution_count": 175,
   "id": "0381cf6b",
   "metadata": {},
   "outputs": [
    {
     "name": "stdout",
     "output_type": "stream",
     "text": [
      "[Voting2] 테스트데이터셋에서 에러 0.7229046023448432\n"
     ]
    }
   ],
   "source": [
    "reg_vt_best.fit(X=df_train[X_input_2], y=df_train['target'])\n",
    "pred_result = reg_vt_best.predict(df_test[X_input_2])\n",
    "print(\"[Voting2] 테스트데이터셋에서 에러\", mse(y_true=df_ans[\"target\"], y_pred=pred_result))"
   ]
  },
  {
   "cell_type": "code",
   "execution_count": null,
   "id": "b492650c",
   "metadata": {},
   "outputs": [],
   "source": [
    "# 최종 Voting 모델로 결과 제출\n",
    "pd.DataFrame(\n",
    "    pred_result,\n",
    "    index=df_test.index,\n",
    "    columns=['target']\n",
    ").to_csv('answer6.csv')"
   ]
  },
  {
   "cell_type": "code",
   "execution_count": null,
   "id": "28d23c22",
   "metadata": {},
   "outputs": [],
   "source": []
  }
 ],
 "metadata": {
  "kernelspec": {
   "display_name": "Python 3 (ipykernel)",
   "language": "python",
   "name": "python3"
  },
  "language_info": {
   "codemirror_mode": {
    "name": "ipython",
    "version": 3
   },
   "file_extension": ".py",
   "mimetype": "text/x-python",
   "name": "python",
   "nbconvert_exporter": "python",
   "pygments_lexer": "ipython3",
   "version": "3.7.4"
  }
 },
 "nbformat": 4,
 "nbformat_minor": 5
}
